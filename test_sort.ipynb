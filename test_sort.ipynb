{
 "cells": [
  {
   "cell_type": "code",
   "execution_count": 33,
   "id": "initial_id",
   "metadata": {
    "collapsed": true,
    "ExecuteTime": {
     "end_time": "2024-03-11T10:26:30.793298552Z",
     "start_time": "2024-03-11T10:26:30.183016411Z"
    }
   },
   "outputs": [
    {
     "name": "stdout",
     "output_type": "stream",
     "text": [
      "Applied providers: ['CPUExecutionProvider'], with options: {'CPUExecutionProvider': {}}\n",
      "model ignore: /home/stargroup/.insightface/models/buffalo_l/1k3d68.onnx landmark_3d_68\n",
      "Applied providers: ['CPUExecutionProvider'], with options: {'CPUExecutionProvider': {}}\n",
      "model ignore: /home/stargroup/.insightface/models/buffalo_l/2d106det.onnx landmark_2d_106\n",
      "Applied providers: ['CPUExecutionProvider'], with options: {'CPUExecutionProvider': {}}\n",
      "find model: /home/stargroup/.insightface/models/buffalo_l/det_10g.onnx detection [1, 3, '?', '?'] 127.5 128.0\n",
      "Applied providers: ['CPUExecutionProvider'], with options: {'CPUExecutionProvider': {}}\n",
      "model ignore: /home/stargroup/.insightface/models/buffalo_l/genderage.onnx genderage\n",
      "Applied providers: ['CPUExecutionProvider'], with options: {'CPUExecutionProvider': {}}\n",
      "model ignore: /home/stargroup/.insightface/models/buffalo_l/w600k_r50.onnx recognition\n",
      "set det-size: (640, 640)\n"
     ]
    }
   ],
   "source": [
    "from deep_sort_realtime.deepsort_tracker import DeepSort\n",
    "from insightface.app import FaceAnalysis\n",
    "import insightface\n",
    "import cv2\n",
    "from funcs import convert_detections_to_bbs_format\n",
    "app = FaceAnalysis(providers=['CUDAExecutionProvider'], allowed_modules=['detection'])\n",
    "app.prepare(ctx_id=0, det_size=(640, 640))\n",
    "tracker = DeepSort(max_age=30)\n"
   ]
  },
  {
   "cell_type": "code",
   "outputs": [],
   "source": [
    "tracker = DeepSort(max_age=5, )\n",
    "img = cv2.imread('/home/stargroup/new/camyolo/bus.jpg')\n",
    "datection = app.get(img)\n",
    "bbs = convert_detections_to_bbs_format(datection)\n",
    "tracks = tracker.update_tracks(bbs, frame=img)\n",
    "print(type(tracker))"
   ],
   "metadata": {
    "collapsed": false
   },
   "id": "2b9a384ec47fe384",
   "execution_count": null
  },
  {
   "cell_type": "code",
   "outputs": [],
   "source": [
    "for track in tracks:\n",
    "    print(int(track.track_id[0]))\n",
    "    if not track.is_confirmed() or track.time_since_update > 1:\n",
    "        continue\n",
    "    track_id = track.track_id\n",
    "    print(int(track_id))\n",
    "    ltrb = track.to_ltrb()\n",
    "    print(int(ltrb))"
   ],
   "metadata": {
    "collapsed": false
   },
   "id": "219205b0da4a6ea9",
   "execution_count": null
  },
  {
   "cell_type": "code",
   "outputs": [
    {
     "name": "stdout",
     "output_type": "stream",
     "text": [
      "<deep_sort_realtime.deep_sort.track.Track object at 0x7f50efb4ead0>\n"
     ]
    },
    {
     "ename": "error",
     "evalue": "OpenCV(4.9.0) /io/opencv/modules/highgui/src/window.cpp:1272: error: (-2:Unspecified error) The function is not implemented. Rebuild the library with Windows, GTK+ 2.x or Cocoa support. If you are on Ubuntu or Debian, install libgtk2.0-dev and pkg-config, then re-run cmake or configure script in function 'cvShowImage'\n",
     "output_type": "error",
     "traceback": [
      "\u001B[0;31m---------------------------------------------------------------------------\u001B[0m",
      "\u001B[0;31merror\u001B[0m                                     Traceback (most recent call last)",
      "Cell \u001B[0;32mIn[37], line 25\u001B[0m\n\u001B[1;32m     23\u001B[0m cv2\u001B[38;5;241m.\u001B[39mrectangle(frame, (\u001B[38;5;28mint\u001B[39m(ltrb[\u001B[38;5;241m0\u001B[39m]), \u001B[38;5;28mint\u001B[39m(ltrb[\u001B[38;5;241m1\u001B[39m])), (\u001B[38;5;28mint\u001B[39m(ltrb[\u001B[38;5;241m2\u001B[39m]), \u001B[38;5;28mint\u001B[39m(ltrb[\u001B[38;5;241m3\u001B[39m])), (\u001B[38;5;241m0\u001B[39m, \u001B[38;5;241m255\u001B[39m, \u001B[38;5;241m0\u001B[39m), \u001B[38;5;241m3\u001B[39m)\n\u001B[1;32m     24\u001B[0m cv2\u001B[38;5;241m.\u001B[39mputText(frame, \u001B[38;5;28mstr\u001B[39m(track_id), (\u001B[38;5;28mint\u001B[39m(ltrb[\u001B[38;5;241m0\u001B[39m]), \u001B[38;5;28mint\u001B[39m(ltrb[\u001B[38;5;241m1\u001B[39m])\u001B[38;5;241m-\u001B[39m\u001B[38;5;241m10\u001B[39m), cv2\u001B[38;5;241m.\u001B[39mFONT_HERSHEY_SIMPLEX, \u001B[38;5;241m0.9\u001B[39m, (\u001B[38;5;241m0\u001B[39m,\u001B[38;5;241m255\u001B[39m,\u001B[38;5;241m0\u001B[39m), \u001B[38;5;241m2\u001B[39m)\n\u001B[0;32m---> 25\u001B[0m \u001B[43mcv2\u001B[49m\u001B[38;5;241;43m.\u001B[39;49m\u001B[43mimshow\u001B[49m\u001B[43m(\u001B[49m\u001B[38;5;124;43m\"\u001B[39;49m\u001B[38;5;124;43mTracks\u001B[39;49m\u001B[38;5;124;43m\"\u001B[39;49m\u001B[43m,\u001B[49m\u001B[43m \u001B[49m\u001B[43mframe\u001B[49m\u001B[43m)\u001B[49m\n\u001B[1;32m     26\u001B[0m \u001B[38;5;28;01mif\u001B[39;00m cv2\u001B[38;5;241m.\u001B[39mwaitKey(\u001B[38;5;241m2\u001B[39m) \u001B[38;5;241m&\u001B[39m \u001B[38;5;241m0xFF\u001B[39m \u001B[38;5;241m==\u001B[39m \u001B[38;5;28mord\u001B[39m(\u001B[38;5;124m'\u001B[39m\u001B[38;5;124mq\u001B[39m\u001B[38;5;124m'\u001B[39m):\n\u001B[1;32m     27\u001B[0m     \u001B[38;5;28;01mbreak\u001B[39;00m\n",
      "\u001B[0;31merror\u001B[0m: OpenCV(4.9.0) /io/opencv/modules/highgui/src/window.cpp:1272: error: (-2:Unspecified error) The function is not implemented. Rebuild the library with Windows, GTK+ 2.x or Cocoa support. If you are on Ubuntu or Debian, install libgtk2.0-dev and pkg-config, then re-run cmake or configure script in function 'cvShowImage'\n"
     ]
    }
   ],
   "source": [
    "cap = cv2.VideoCapture('/home/stargroup/new/saved_videos/output_video_2024-03-11_13-15-13.avi')\n",
    "\n",
    "cap.set(cv2.CAP_PROP_FRAME_WIDTH, 1280)\n",
    "cap.set(cv2.CAP_PROP_FRAME_HEIGHT, 720)\n",
    "\n",
    "while True:\n",
    "    ret, frame = cap.read()\n",
    "    if not ret:\n",
    "        break\n",
    "    datection = app.get(frame)\n",
    "    bbs = convert_detections_to_bbs_format(datection)\n",
    "    tracks = tracker.update_tracks(bbs, frame=frame)\n",
    "    for track in tracks:\n",
    "        print(track)\n",
    "        if not track.is_confirmed() or track.time_since_update > 1:\n",
    "            # Пропускаем не подтвержденные треки или треки, которые не обновлялись\n",
    "            continue\n",
    "        \n",
    "        track_id = track.track_id  # ID трека\n",
    "        ltrb = track.to_ltrb()\n",
    "    \n",
    "        # Отрисовка рамки вокруг объекта и ID трека на изображении\n",
    "        cv2.rectangle(frame, (int(ltrb[0]), int(ltrb[1])), (int(ltrb[2]), int(ltrb[3])), (0, 255, 0), 3)\n",
    "        cv2.putText(frame, str(track_id), (int(ltrb[0]), int(ltrb[1])-10), cv2.FONT_HERSHEY_SIMPLEX, 0.9, (0,255,0), 2)\n",
    "        cv2.imshow(\"Tracks\", frame)\n",
    "        if cv2.waitKey(2) & 0xFF == ord('q'):\n",
    "            break\n",
    "\n",
    "cv2.destroyAllWindows()\n"
   ],
   "metadata": {
    "collapsed": false,
    "ExecuteTime": {
     "end_time": "2024-03-11T10:32:19.552022825Z",
     "start_time": "2024-03-11T10:32:19.434149678Z"
    }
   },
   "id": "70e1f25effcf3e24",
   "execution_count": 37
  },
  {
   "cell_type": "code",
   "outputs": [],
   "source": [],
   "metadata": {
    "collapsed": false
   },
   "id": "5220f8487b1839bd"
  }
 ],
 "metadata": {
  "kernelspec": {
   "display_name": "Python 3",
   "language": "python",
   "name": "python3"
  },
  "language_info": {
   "codemirror_mode": {
    "name": "ipython",
    "version": 2
   },
   "file_extension": ".py",
   "mimetype": "text/x-python",
   "name": "python",
   "nbconvert_exporter": "python",
   "pygments_lexer": "ipython2",
   "version": "2.7.6"
  }
 },
 "nbformat": 4,
 "nbformat_minor": 5
}
